{
 "cells": [
  {
   "cell_type": "code",
   "execution_count": 7,
   "id": "e7ffa076",
   "metadata": {},
   "outputs": [],
   "source": [
    "import torch\n",
    "import torch.nn as nn\n",
    "import torchvision.models as models\n",
    "\n",
    "import string\n",
    "import dataset\n",
    "import config\n",
    "import data_train\n",
    "import config\n",
    "import model\n",
    "import os"
   ]
  },
  {
   "cell_type": "code",
   "execution_count": 8,
   "id": "386b4fdb",
   "metadata": {},
   "outputs": [
    {
     "name": "stdout",
     "output_type": "stream",
     "text": [
      "Using device: cuda\n"
     ]
    }
   ],
   "source": [
    "import torch\n",
    "import torch.nn as nn\n",
    "import torch.optim as optim\n",
    "import torch.nn.functional as F\n",
    "from torch.nn import CTCLoss\n",
    "from tqdm import tqdm\n",
    "import config\n",
    "\n",
    "device = torch.device(\"cuda\" if torch.cuda.is_available() else \"cpu\")\n",
    "print(f\"Using device: {device}\")\n",
    "\n",
    "# Mapping index → char (ubah sesuai datasetmu)\n",
    "idx2char = {i: chr(96+i) for i in range(1, 27)}  # 1='a' ... 26='z'\n",
    "idx2char[0] = \"-\"  # blank untuk CTC\n",
    "\n",
    "\n",
    "def decode_prediction(logits):\n",
    "    \"\"\"Greedy decode dari output CTC\"\"\"\n",
    "    out = torch.argmax(logits, dim=2)  # [T, B]\n",
    "    out = out.permute(1, 0)  # [B, T]\n",
    "    results = []\n",
    "    for seq in out:\n",
    "        prev = -1\n",
    "        s = \"\"\n",
    "        for idx in seq.cpu().numpy():\n",
    "            if idx != prev and idx != 0:  # remove repeat & blank\n",
    "                s += idx2char.get(idx, \"?\")\n",
    "            prev = idx\n",
    "        results.append(s)\n",
    "    return results\n",
    "\n",
    "\n",
    "def train_one_epoch(model, train_loader, optimizer, criterion, epoch, print_every=100):\n",
    "    model.train()\n",
    "    train_loss = 0.0\n",
    "    pbar = tqdm(enumerate(train_loader), total=len(train_loader), desc=f\"Epoch {epoch}\")\n",
    "\n",
    "    for batch_idx, batch in pbar:\n",
    "        images = batch[\"images\"].to(device)           # [B, C, H, W]\n",
    "        targets = batch[\"targets\"].to(device)         # [B, max_len]\n",
    "        targets_lengths = batch[\"targets_lengths\"]    # [B]\n",
    "\n",
    "        batch_size = images.size(0)\n",
    "\n",
    "        # Forward\n",
    "        logits = model(images)   # [T, B, num_classes]\n",
    "        log_probs = F.log_softmax(logits, dim=2)\n",
    "\n",
    "        input_lengths = torch.full(size=(batch_size,), fill_value=logits.size(0), dtype=torch.long).to(device)\n",
    "\n",
    "        # Hitung CTC Loss\n",
    "        loss = criterion(log_probs, targets, input_lengths, targets_lengths)\n",
    "\n",
    "        # Backprop\n",
    "        optimizer.zero_grad()\n",
    "        loss.backward()\n",
    "        optimizer.step()\n",
    "\n",
    "        train_loss += loss.item()\n",
    "\n",
    "        # Print sample prediction tiap 10 batch\n",
    "        if batch_idx % print_every == 0:\n",
    "            decoded = decode_prediction(log_probs.detach())\n",
    "            target_strs = []\n",
    "            for t in targets:\n",
    "                s = \"\".join([idx2char[i.item()] for i in t if i.item() != 0])\n",
    "                target_strs.append(s)\n",
    "\n",
    "            print(f\"\\nBatch {batch_idx} - Pred: {decoded[0]} | GT: {target_strs[0]}\")\n",
    "\n",
    "        pbar.set_postfix({\"loss\": f\"{loss.item():.4f}\"})\n",
    "\n",
    "    return train_loss / len(train_loader)\n",
    "\n",
    "\n",
    "def validate(model, val_loader, criterion):\n",
    "    model.eval()\n",
    "    val_loss = 0.0\n",
    "    with torch.no_grad():\n",
    "        for batch in val_loader:\n",
    "            images = batch[\"images\"].to(device)\n",
    "            targets = batch[\"targets\"].to(device)\n",
    "            targets_lengths = batch[\"targets_lengths\"]\n",
    "\n",
    "            batch_size = images.size(0)\n",
    "            logits = model(images)\n",
    "            log_probs = F.log_softmax(logits, dim=2)\n",
    "            input_lengths = torch.full(size=(batch_size,), fill_value=logits.size(0), dtype=torch.long).to(device)\n",
    "\n",
    "            loss = criterion(log_probs, targets, input_lengths, targets_lengths)\n",
    "            val_loss += loss.item()\n",
    "\n",
    "    return val_loss / len(val_loader)\n",
    "\n",
    "\n",
    "def train_model(\n",
    "    train_loader, \n",
    "    val_loader, \n",
    "    num_classes=27, \n",
    "    hidden_state=128, \n",
    "    epochs=10, \n",
    "    lr=1e-3, \n",
    "    checkpoint_path=\"checkpoint.pth\"\n",
    "):\n",
    "    # Init model\n",
    "    net = model.model_wordRec(num_classes=num_classes, hidden_state=hidden_state).to(device)\n",
    "    criterion = CTCLoss(blank=0, reduction=\"mean\", zero_infinity=True)\n",
    "    optimizer = optim.Adam(net.parameters(), lr=lr)\n",
    "\n",
    "    start_epoch = 1\n",
    "\n",
    "    # Cek kalau ada checkpoint, resume\n",
    "    if os.path.exists(checkpoint_path):\n",
    "        print(f\"🔄 Loading checkpoint from {checkpoint_path} ...\")\n",
    "        checkpoint = torch.load(checkpoint_path, map_location=device)\n",
    "        net.load_state_dict(checkpoint['model_state_dict'])\n",
    "        optimizer.load_state_dict(checkpoint['optimizer_state_dict'])\n",
    "        start_epoch = checkpoint['epoch'] + 1\n",
    "        print(f\"Resumed from epoch {checkpoint['epoch']}\")\n",
    "\n",
    "    for epoch in range(start_epoch, epochs+1):\n",
    "        train_loss = train_one_epoch(net, train_loader, optimizer, criterion, epoch)\n",
    "        val_loss = validate(net, val_loader, criterion)\n",
    "\n",
    "        print(f\"Epoch [{epoch}/{epochs}] - Train Loss: {train_loss:.4f} | Val Loss: {val_loss:.4f}\")\n",
    "\n",
    "        # ✅ Simpan checkpoint tiap epoch\n",
    "        torch.save({\n",
    "            'epoch': epoch,\n",
    "            'model_state_dict': net.state_dict(),\n",
    "            'optimizer_state_dict': optimizer.state_dict(),\n",
    "            'train_loss': train_loss,\n",
    "            'val_loss': val_loss,\n",
    "        }, checkpoint_path)\n",
    "        print(f\"💾 Checkpoint saved at epoch {epoch}\")\n",
    "\n",
    "    return net\n",
    "\n",
    "\n"
   ]
  },
  {
   "cell_type": "code",
   "execution_count": 9,
   "id": "ad5f2465",
   "metadata": {},
   "outputs": [
    {
     "name": "stdout",
     "output_type": "stream",
     "text": [
      "True\n",
      "NVIDIA GeForce RTX 3050 6GB Laptop GPU\n"
     ]
    }
   ],
   "source": [
    "print(torch.cuda.is_available())  \n",
    "print(torch.cuda.get_device_name(0)) \n"
   ]
  },
  {
   "cell_type": "code",
   "execution_count": 10,
   "id": "5d334286",
   "metadata": {},
   "outputs": [
    {
     "name": "stderr",
     "output_type": "stream",
     "text": [
      "Epoch 1:   0%|          | 1/2000 [00:01<27:09,  1.23it/s, loss=22.2492]"
     ]
    },
    {
     "name": "stdout",
     "output_type": "stream",
     "text": [
      "\n",
      "Batch 0 - Pred: wvxit | GT: dktegqe\n"
     ]
    },
    {
     "name": "stderr",
     "output_type": "stream",
     "text": [
      "Epoch 1:   5%|▌         | 101/2000 [00:22<06:54,  4.58it/s, loss=3.5814]"
     ]
    },
    {
     "name": "stdout",
     "output_type": "stream",
     "text": [
      "\n",
      "Batch 100 - Pred:  | GT: pcikhdn\n"
     ]
    },
    {
     "name": "stderr",
     "output_type": "stream",
     "text": [
      "Epoch 1:  10%|█         | 201/2000 [00:44<06:32,  4.59it/s, loss=3.6157]"
     ]
    },
    {
     "name": "stdout",
     "output_type": "stream",
     "text": [
      "\n",
      "Batch 200 - Pred:  | GT: vugraiiwbn\n"
     ]
    },
    {
     "name": "stderr",
     "output_type": "stream",
     "text": [
      "Epoch 1:  15%|█▌        | 301/2000 [01:05<06:13,  4.55it/s, loss=3.6046]"
     ]
    },
    {
     "name": "stdout",
     "output_type": "stream",
     "text": [
      "\n",
      "Batch 300 - Pred:  | GT: fipugwrz\n"
     ]
    },
    {
     "name": "stderr",
     "output_type": "stream",
     "text": [
      "Epoch 1:  20%|██        | 401/2000 [01:27<05:49,  4.57it/s, loss=3.6218]"
     ]
    },
    {
     "name": "stdout",
     "output_type": "stream",
     "text": [
      "\n",
      "Batch 400 - Pred:  | GT: wcrcgamjue\n"
     ]
    },
    {
     "name": "stderr",
     "output_type": "stream",
     "text": [
      "Epoch 1:  25%|██▌       | 501/2000 [01:48<05:29,  4.55it/s, loss=3.5842]"
     ]
    },
    {
     "name": "stdout",
     "output_type": "stream",
     "text": [
      "\n",
      "Batch 500 - Pred:  | GT: kgfdjjyypw\n"
     ]
    },
    {
     "name": "stderr",
     "output_type": "stream",
     "text": [
      "Epoch 1:  30%|███       | 601/2000 [02:10<05:07,  4.54it/s, loss=3.6204]"
     ]
    },
    {
     "name": "stdout",
     "output_type": "stream",
     "text": [
      "\n",
      "Batch 600 - Pred:  | GT: dpvrhk\n"
     ]
    },
    {
     "name": "stderr",
     "output_type": "stream",
     "text": [
      "Epoch 1:  35%|███▌      | 701/2000 [02:32<04:45,  4.54it/s, loss=3.6053]"
     ]
    },
    {
     "name": "stdout",
     "output_type": "stream",
     "text": [
      "\n",
      "Batch 700 - Pred:  | GT: oczjocuq\n"
     ]
    },
    {
     "name": "stderr",
     "output_type": "stream",
     "text": [
      "Epoch 1:  40%|████      | 801/2000 [02:54<04:25,  4.52it/s, loss=3.5766]"
     ]
    },
    {
     "name": "stdout",
     "output_type": "stream",
     "text": [
      "\n",
      "Batch 800 - Pred:  | GT: lozrerjn\n"
     ]
    },
    {
     "name": "stderr",
     "output_type": "stream",
     "text": [
      "Epoch 1:  45%|████▌     | 901/2000 [03:16<04:03,  4.51it/s, loss=3.5816]"
     ]
    },
    {
     "name": "stdout",
     "output_type": "stream",
     "text": [
      "\n",
      "Batch 900 - Pred:  | GT: jxxxt\n"
     ]
    },
    {
     "name": "stderr",
     "output_type": "stream",
     "text": [
      "Epoch 1:  50%|█████     | 1001/2000 [03:38<03:41,  4.52it/s, loss=3.5552]"
     ]
    },
    {
     "name": "stdout",
     "output_type": "stream",
     "text": [
      "\n",
      "Batch 1000 - Pred:  | GT: fezmiw\n"
     ]
    },
    {
     "name": "stderr",
     "output_type": "stream",
     "text": [
      "Epoch 1:  55%|█████▌    | 1101/2000 [04:00<03:20,  4.48it/s, loss=3.5490]"
     ]
    },
    {
     "name": "stdout",
     "output_type": "stream",
     "text": [
      "\n",
      "Batch 1100 - Pred:  | GT: nzlsyy\n"
     ]
    },
    {
     "name": "stderr",
     "output_type": "stream",
     "text": [
      "Epoch 1:  60%|██████    | 1201/2000 [04:22<02:58,  4.47it/s, loss=3.5692]"
     ]
    },
    {
     "name": "stdout",
     "output_type": "stream",
     "text": [
      "\n",
      "Batch 1200 - Pred:  | GT: xmcrhdg\n"
     ]
    },
    {
     "name": "stderr",
     "output_type": "stream",
     "text": [
      "Epoch 1:  65%|██████▌   | 1301/2000 [04:44<02:36,  4.46it/s, loss=3.5396]"
     ]
    },
    {
     "name": "stdout",
     "output_type": "stream",
     "text": [
      "\n",
      "Batch 1300 - Pred:  | GT: qggnybhq\n"
     ]
    },
    {
     "name": "stderr",
     "output_type": "stream",
     "text": [
      "Epoch 1:  70%|███████   | 1401/2000 [05:06<02:14,  4.46it/s, loss=3.5310]"
     ]
    },
    {
     "name": "stdout",
     "output_type": "stream",
     "text": [
      "\n",
      "Batch 1400 - Pred:  | GT: asdpnnkv\n"
     ]
    },
    {
     "name": "stderr",
     "output_type": "stream",
     "text": [
      "Epoch 1:  75%|███████▌  | 1501/2000 [05:28<01:51,  4.48it/s, loss=3.5424]"
     ]
    },
    {
     "name": "stdout",
     "output_type": "stream",
     "text": [
      "\n",
      "Batch 1500 - Pred:  | GT: vfgsfmdsr\n"
     ]
    },
    {
     "name": "stderr",
     "output_type": "stream",
     "text": [
      "Epoch 1:  80%|████████  | 1601/2000 [05:50<01:29,  4.45it/s, loss=3.5363]"
     ]
    },
    {
     "name": "stdout",
     "output_type": "stream",
     "text": [
      "\n",
      "Batch 1600 - Pred:  | GT: hyhr\n"
     ]
    },
    {
     "name": "stderr",
     "output_type": "stream",
     "text": [
      "Epoch 1:  85%|████████▌ | 1701/2000 [06:12<01:07,  4.46it/s, loss=3.5251]"
     ]
    },
    {
     "name": "stdout",
     "output_type": "stream",
     "text": [
      "\n",
      "Batch 1700 - Pred:  | GT: wwbfsj\n"
     ]
    },
    {
     "name": "stderr",
     "output_type": "stream",
     "text": [
      "Epoch 1:  90%|█████████ | 1801/2000 [06:34<00:44,  4.47it/s, loss=3.5516]"
     ]
    },
    {
     "name": "stdout",
     "output_type": "stream",
     "text": [
      "\n",
      "Batch 1800 - Pred:  | GT: upbztfbm\n"
     ]
    },
    {
     "name": "stderr",
     "output_type": "stream",
     "text": [
      "Epoch 1:  95%|█████████▌| 1901/2000 [06:57<00:22,  4.44it/s, loss=3.5423]"
     ]
    },
    {
     "name": "stdout",
     "output_type": "stream",
     "text": [
      "\n",
      "Batch 1900 - Pred:  | GT: vskpkczk\n"
     ]
    },
    {
     "name": "stderr",
     "output_type": "stream",
     "text": [
      "Epoch 1: 100%|██████████| 2000/2000 [07:19<00:00,  4.55it/s, loss=3.4616]\n"
     ]
    },
    {
     "name": "stdout",
     "output_type": "stream",
     "text": [
      "Epoch [1/5] - Train Loss: 3.6091 | Val Loss: 3.6958\n",
      "💾 Checkpoint saved at epoch 1\n"
     ]
    },
    {
     "name": "stderr",
     "output_type": "stream",
     "text": [
      "Epoch 2:   0%|          | 1/2000 [00:00<17:01,  1.96it/s, loss=3.4910]"
     ]
    },
    {
     "name": "stdout",
     "output_type": "stream",
     "text": [
      "\n",
      "Batch 0 - Pred:  | GT: vjdqt\n"
     ]
    },
    {
     "name": "stderr",
     "output_type": "stream",
     "text": [
      "Epoch 2:   5%|▌         | 101/2000 [00:22<07:00,  4.52it/s, loss=3.2504]"
     ]
    },
    {
     "name": "stdout",
     "output_type": "stream",
     "text": [
      "\n",
      "Batch 100 - Pred:  | GT: hvvjpdynl\n"
     ]
    },
    {
     "name": "stderr",
     "output_type": "stream",
     "text": [
      "Epoch 2:  10%|█         | 201/2000 [00:43<06:38,  4.51it/s, loss=3.1805]"
     ]
    },
    {
     "name": "stdout",
     "output_type": "stream",
     "text": [
      "\n",
      "Batch 200 - Pred:  | GT: kehinb\n"
     ]
    },
    {
     "name": "stderr",
     "output_type": "stream",
     "text": [
      "Epoch 2:  15%|█▌        | 301/2000 [01:05<06:21,  4.46it/s, loss=3.1111]"
     ]
    },
    {
     "name": "stdout",
     "output_type": "stream",
     "text": [
      "\n",
      "Batch 300 - Pred:  | GT: gapvjmby\n"
     ]
    },
    {
     "name": "stderr",
     "output_type": "stream",
     "text": [
      "Epoch 2:  20%|██        | 401/2000 [01:28<05:57,  4.47it/s, loss=2.4895]"
     ]
    },
    {
     "name": "stdout",
     "output_type": "stream",
     "text": [
      "\n",
      "Batch 400 - Pred: ejeegwj | GT: qhnucsrvwh\n"
     ]
    },
    {
     "name": "stderr",
     "output_type": "stream",
     "text": [
      "Epoch 2:  25%|██▌       | 501/2000 [01:50<05:35,  4.47it/s, loss=1.3595]"
     ]
    },
    {
     "name": "stdout",
     "output_type": "stream",
     "text": [
      "\n",
      "Batch 500 - Pred: xkakak | GT: xhghsi\n"
     ]
    },
    {
     "name": "stderr",
     "output_type": "stream",
     "text": [
      "Epoch 2:  30%|███       | 601/2000 [02:12<05:13,  4.46it/s, loss=0.5468]"
     ]
    },
    {
     "name": "stdout",
     "output_type": "stream",
     "text": [
      "\n",
      "Batch 600 - Pred: wjzrasidg | GT: wjzrasidyg\n"
     ]
    },
    {
     "name": "stderr",
     "output_type": "stream",
     "text": [
      "Epoch 2:  35%|███▌      | 701/2000 [02:34<04:50,  4.47it/s, loss=0.1804]"
     ]
    },
    {
     "name": "stdout",
     "output_type": "stream",
     "text": [
      "\n",
      "Batch 700 - Pred: lfzyywgg | GT: ifzyywgg\n"
     ]
    },
    {
     "name": "stderr",
     "output_type": "stream",
     "text": [
      "Epoch 2:  40%|████      | 801/2000 [02:56<04:31,  4.41it/s, loss=0.0548]"
     ]
    },
    {
     "name": "stdout",
     "output_type": "stream",
     "text": [
      "\n",
      "Batch 800 - Pred: uincji | GT: uincji\n"
     ]
    },
    {
     "name": "stderr",
     "output_type": "stream",
     "text": [
      "Epoch 2:  45%|████▌     | 901/2000 [03:19<04:08,  4.43it/s, loss=0.0171]"
     ]
    },
    {
     "name": "stdout",
     "output_type": "stream",
     "text": [
      "\n",
      "Batch 900 - Pred: kpgulrz | GT: kpgulrz\n"
     ]
    },
    {
     "name": "stderr",
     "output_type": "stream",
     "text": [
      "Epoch 2:  50%|█████     | 1001/2000 [03:41<03:47,  4.40it/s, loss=0.0658]"
     ]
    },
    {
     "name": "stdout",
     "output_type": "stream",
     "text": [
      "\n",
      "Batch 1000 - Pred: tuvfphlobg | GT: tuvfphlobg\n"
     ]
    },
    {
     "name": "stderr",
     "output_type": "stream",
     "text": [
      "Epoch 2:  55%|█████▌    | 1101/2000 [04:03<03:20,  4.48it/s, loss=0.0301]"
     ]
    },
    {
     "name": "stdout",
     "output_type": "stream",
     "text": [
      "\n",
      "Batch 1100 - Pred: dogkbc | GT: dogkbc\n"
     ]
    },
    {
     "name": "stderr",
     "output_type": "stream",
     "text": [
      "Epoch 2:  60%|██████    | 1201/2000 [04:25<03:00,  4.43it/s, loss=0.0058]"
     ]
    },
    {
     "name": "stdout",
     "output_type": "stream",
     "text": [
      "\n",
      "Batch 1200 - Pred: igngqo | GT: igngqo\n"
     ]
    },
    {
     "name": "stderr",
     "output_type": "stream",
     "text": [
      "Epoch 2:  65%|██████▌   | 1301/2000 [04:48<02:37,  4.44it/s, loss=0.0299]"
     ]
    },
    {
     "name": "stdout",
     "output_type": "stream",
     "text": [
      "\n",
      "Batch 1300 - Pred: bjvwonk | GT: bjvwonk\n"
     ]
    },
    {
     "name": "stderr",
     "output_type": "stream",
     "text": [
      "Epoch 2:  70%|███████   | 1401/2000 [05:10<02:14,  4.46it/s, loss=0.0465]"
     ]
    },
    {
     "name": "stdout",
     "output_type": "stream",
     "text": [
      "\n",
      "Batch 1400 - Pred: zubgqaug | GT: zubgqaug\n"
     ]
    },
    {
     "name": "stderr",
     "output_type": "stream",
     "text": [
      "Epoch 2:  75%|███████▌  | 1501/2000 [05:32<01:51,  4.46it/s, loss=0.0089]"
     ]
    },
    {
     "name": "stdout",
     "output_type": "stream",
     "text": [
      "\n",
      "Batch 1500 - Pred: usfv | GT: usfv\n"
     ]
    },
    {
     "name": "stderr",
     "output_type": "stream",
     "text": [
      "Epoch 2:  80%|████████  | 1601/2000 [05:54<01:29,  4.45it/s, loss=0.0181]"
     ]
    },
    {
     "name": "stdout",
     "output_type": "stream",
     "text": [
      "\n",
      "Batch 1600 - Pred: jufmvz | GT: jufmvz\n"
     ]
    },
    {
     "name": "stderr",
     "output_type": "stream",
     "text": [
      "Epoch 2:  85%|████████▌ | 1701/2000 [06:17<01:07,  4.43it/s, loss=0.0029]"
     ]
    },
    {
     "name": "stdout",
     "output_type": "stream",
     "text": [
      "\n",
      "Batch 1700 - Pred: sscbr | GT: sscbr\n"
     ]
    },
    {
     "name": "stderr",
     "output_type": "stream",
     "text": [
      "Epoch 2:  90%|█████████ | 1801/2000 [06:39<00:44,  4.45it/s, loss=0.0121]"
     ]
    },
    {
     "name": "stdout",
     "output_type": "stream",
     "text": [
      "\n",
      "Batch 1800 - Pred: tnrcskytad | GT: tnrcskytad\n"
     ]
    },
    {
     "name": "stderr",
     "output_type": "stream",
     "text": [
      "Epoch 2:  95%|█████████▌| 1901/2000 [07:01<00:22,  4.45it/s, loss=0.0123]"
     ]
    },
    {
     "name": "stdout",
     "output_type": "stream",
     "text": [
      "\n",
      "Batch 1900 - Pred: csanen | GT: csanen\n"
     ]
    },
    {
     "name": "stderr",
     "output_type": "stream",
     "text": [
      "Epoch 2: 100%|██████████| 2000/2000 [07:24<00:00,  4.50it/s, loss=0.0616]\n"
     ]
    },
    {
     "name": "stdout",
     "output_type": "stream",
     "text": [
      "Epoch [2/5] - Train Loss: 0.8116 | Val Loss: 0.0189\n",
      "💾 Checkpoint saved at epoch 2\n"
     ]
    },
    {
     "name": "stderr",
     "output_type": "stream",
     "text": [
      "Epoch 3:   0%|          | 1/2000 [00:00<17:12,  1.94it/s, loss=0.0044]"
     ]
    },
    {
     "name": "stdout",
     "output_type": "stream",
     "text": [
      "\n",
      "Batch 0 - Pred: aguammvjk | GT: aguammvjk\n"
     ]
    },
    {
     "name": "stderr",
     "output_type": "stream",
     "text": [
      "Epoch 3:   5%|▌         | 101/2000 [00:22<07:03,  4.48it/s, loss=0.0023]"
     ]
    },
    {
     "name": "stdout",
     "output_type": "stream",
     "text": [
      "\n",
      "Batch 100 - Pred: dvyfnx | GT: dvyfnx\n"
     ]
    },
    {
     "name": "stderr",
     "output_type": "stream",
     "text": [
      "Epoch 3:  10%|█         | 201/2000 [00:44<06:40,  4.49it/s, loss=0.0081]"
     ]
    },
    {
     "name": "stdout",
     "output_type": "stream",
     "text": [
      "\n",
      "Batch 200 - Pred: lhckusojy | GT: lhckusojy\n"
     ]
    },
    {
     "name": "stderr",
     "output_type": "stream",
     "text": [
      "Epoch 3:  15%|█▌        | 301/2000 [01:06<06:21,  4.45it/s, loss=0.0155]"
     ]
    },
    {
     "name": "stdout",
     "output_type": "stream",
     "text": [
      "\n",
      "Batch 300 - Pred: axvmgf | GT: axvmgf\n"
     ]
    },
    {
     "name": "stderr",
     "output_type": "stream",
     "text": [
      "Epoch 3:  20%|██        | 401/2000 [01:28<06:05,  4.38it/s, loss=0.0957]"
     ]
    },
    {
     "name": "stdout",
     "output_type": "stream",
     "text": [
      "\n",
      "Batch 400 - Pred: lbihyfpemk | GT: lbihyfpemk\n"
     ]
    },
    {
     "name": "stderr",
     "output_type": "stream",
     "text": [
      "Epoch 3:  23%|██▎       | 452/2000 [01:40<05:43,  4.51it/s, loss=0.0051]\n"
     ]
    },
    {
     "ename": "KeyboardInterrupt",
     "evalue": "",
     "output_type": "error",
     "traceback": [
      "\u001b[31m---------------------------------------------------------------------------\u001b[39m",
      "\u001b[31mKeyboardInterrupt\u001b[39m                         Traceback (most recent call last)",
      "\u001b[36mCell\u001b[39m\u001b[36m \u001b[39m\u001b[32mIn[10]\u001b[39m\u001b[32m, line 1\u001b[39m\n\u001b[32m----> \u001b[39m\u001b[32m1\u001b[39m model_trained = \u001b[43mtrain_model\u001b[49m\u001b[43m(\u001b[49m\n\u001b[32m      2\u001b[39m \u001b[43m    \u001b[49m\u001b[43mdata_train\u001b[49m\u001b[43m.\u001b[49m\u001b[43mtrain_loader\u001b[49m\u001b[43m,\u001b[49m\u001b[43m \u001b[49m\n\u001b[32m      3\u001b[39m \u001b[43m    \u001b[49m\u001b[43mdata_train\u001b[49m\u001b[43m.\u001b[49m\u001b[43mval_loader\u001b[49m\u001b[43m,\u001b[49m\u001b[43m \u001b[49m\n\u001b[32m      4\u001b[39m \u001b[43m    \u001b[49m\u001b[43mnum_classes\u001b[49m\u001b[43m=\u001b[49m\u001b[32;43m27\u001b[39;49m\u001b[43m,\u001b[49m\u001b[43m   \u001b[49m\u001b[38;5;66;43;03m# 26 huruf + blank\u001b[39;49;00m\n\u001b[32m      5\u001b[39m \u001b[43m    \u001b[49m\u001b[43mepochs\u001b[49m\u001b[43m=\u001b[49m\u001b[43mconfig\u001b[49m\u001b[43m.\u001b[49m\u001b[43mEPOCHS\u001b[49m\u001b[43m,\u001b[49m\u001b[43m \u001b[49m\n\u001b[32m      6\u001b[39m \u001b[43m    \u001b[49m\u001b[43mlr\u001b[49m\u001b[43m=\u001b[49m\u001b[32;43m0.001\u001b[39;49m\n\u001b[32m      7\u001b[39m \u001b[43m)\u001b[49m\n",
      "\u001b[36mCell\u001b[39m\u001b[36m \u001b[39m\u001b[32mIn[8]\u001b[39m\u001b[32m, line 122\u001b[39m, in \u001b[36mtrain_model\u001b[39m\u001b[34m(train_loader, val_loader, num_classes, hidden_state, epochs, lr, checkpoint_path)\u001b[39m\n\u001b[32m    119\u001b[39m     \u001b[38;5;28mprint\u001b[39m(\u001b[33mf\u001b[39m\u001b[33m\"\u001b[39m\u001b[33mResumed from epoch \u001b[39m\u001b[38;5;132;01m{\u001b[39;00mcheckpoint[\u001b[33m'\u001b[39m\u001b[33mepoch\u001b[39m\u001b[33m'\u001b[39m]\u001b[38;5;132;01m}\u001b[39;00m\u001b[33m\"\u001b[39m)\n\u001b[32m    121\u001b[39m \u001b[38;5;28;01mfor\u001b[39;00m epoch \u001b[38;5;129;01min\u001b[39;00m \u001b[38;5;28mrange\u001b[39m(start_epoch, epochs+\u001b[32m1\u001b[39m):\n\u001b[32m--> \u001b[39m\u001b[32m122\u001b[39m     train_loss = \u001b[43mtrain_one_epoch\u001b[49m\u001b[43m(\u001b[49m\u001b[43mnet\u001b[49m\u001b[43m,\u001b[49m\u001b[43m \u001b[49m\u001b[43mtrain_loader\u001b[49m\u001b[43m,\u001b[49m\u001b[43m \u001b[49m\u001b[43moptimizer\u001b[49m\u001b[43m,\u001b[49m\u001b[43m \u001b[49m\u001b[43mcriterion\u001b[49m\u001b[43m,\u001b[49m\u001b[43m \u001b[49m\u001b[43mepoch\u001b[49m\u001b[43m)\u001b[49m\n\u001b[32m    123\u001b[39m     val_loss = validate(net, val_loader, criterion)\n\u001b[32m    125\u001b[39m     \u001b[38;5;28mprint\u001b[39m(\u001b[33mf\u001b[39m\u001b[33m\"\u001b[39m\u001b[33mEpoch [\u001b[39m\u001b[38;5;132;01m{\u001b[39;00mepoch\u001b[38;5;132;01m}\u001b[39;00m\u001b[33m/\u001b[39m\u001b[38;5;132;01m{\u001b[39;00mepochs\u001b[38;5;132;01m}\u001b[39;00m\u001b[33m] - Train Loss: \u001b[39m\u001b[38;5;132;01m{\u001b[39;00mtrain_loss\u001b[38;5;132;01m:\u001b[39;00m\u001b[33m.4f\u001b[39m\u001b[38;5;132;01m}\u001b[39;00m\u001b[33m | Val Loss: \u001b[39m\u001b[38;5;132;01m{\u001b[39;00mval_loss\u001b[38;5;132;01m:\u001b[39;00m\u001b[33m.4f\u001b[39m\u001b[38;5;132;01m}\u001b[39;00m\u001b[33m\"\u001b[39m)\n",
      "\u001b[36mCell\u001b[39m\u001b[36m \u001b[39m\u001b[32mIn[8]\u001b[39m\u001b[32m, line 59\u001b[39m, in \u001b[36mtrain_one_epoch\u001b[39m\u001b[34m(model, train_loader, optimizer, criterion, epoch, print_every)\u001b[39m\n\u001b[32m     56\u001b[39m loss.backward()\n\u001b[32m     57\u001b[39m optimizer.step()\n\u001b[32m---> \u001b[39m\u001b[32m59\u001b[39m train_loss += \u001b[43mloss\u001b[49m\u001b[43m.\u001b[49m\u001b[43mitem\u001b[49m\u001b[43m(\u001b[49m\u001b[43m)\u001b[49m\n\u001b[32m     61\u001b[39m \u001b[38;5;66;03m# Print sample prediction tiap 10 batch\u001b[39;00m\n\u001b[32m     62\u001b[39m \u001b[38;5;28;01mif\u001b[39;00m batch_idx % print_every == \u001b[32m0\u001b[39m:\n",
      "\u001b[31mKeyboardInterrupt\u001b[39m: "
     ]
    }
   ],
   "source": [
    "model_trained = train_model(\n",
    "    data_train.train_loader, \n",
    "    data_train.val_loader, \n",
    "    num_classes=27,   # 26 huruf + blank\n",
    "    epochs=config.EPOCHS, \n",
    "    lr=0.001\n",
    ")\n"
   ]
  },
  {
   "cell_type": "code",
   "execution_count": null,
   "id": "35c48f1b",
   "metadata": {},
   "outputs": [],
   "source": []
  },
  {
   "cell_type": "code",
   "execution_count": null,
   "id": "175e41b9",
   "metadata": {},
   "outputs": [],
   "source": []
  }
 ],
 "metadata": {
  "kernelspec": {
   "display_name": "Python 3",
   "language": "python",
   "name": "python3"
  },
  "language_info": {
   "codemirror_mode": {
    "name": "ipython",
    "version": 3
   },
   "file_extension": ".py",
   "mimetype": "text/x-python",
   "name": "python",
   "nbconvert_exporter": "python",
   "pygments_lexer": "ipython3",
   "version": "3.12.6"
  }
 },
 "nbformat": 4,
 "nbformat_minor": 5
}
